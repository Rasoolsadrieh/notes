{
  "nbformat": 4,
  "nbformat_minor": 0,
  "metadata": {
    "colab": {
      "provenance": [],
      "authorship_tag": "ABX9TyMuLJriaJ/M9Cs61PYI8q/x",
      "include_colab_link": true
    },
    "kernelspec": {
      "name": "python3",
      "display_name": "Python 3"
    },
    "language_info": {
      "name": "python"
    }
  },
  "cells": [
    {
      "cell_type": "markdown",
      "metadata": {
        "id": "view-in-github",
        "colab_type": "text"
      },
      "source": [
        "<a href=\"https://colab.research.google.com/github/Rasoolsadrieh/notes/blob/main/get%20astrological%20sign.ipynb\" target=\"_parent\"><img src=\"https://colab.research.google.com/assets/colab-badge.svg\" alt=\"Open In Colab\"/></a>"
      ]
    },
    {
      "cell_type": "code",
      "source": [
        "def get_astrological_sign(day, month):\n",
        "    if (month == 3 and day >= 21) or (month == 4 and day <= 19):\n",
        "        return \"Aries\"\n",
        "    elif (month == 4 and day >= 20) or (month == 5 and day <= 20):\n",
        "        return \"Taurus\"\n",
        "    elif (month == 5 and day >= 21) or (month == 6 and day <= 20):\n",
        "        return \"Gemini\"\n",
        "    elif (month == 6 and day >= 21) or (month == 7 and day <= 22):\n",
        "        return \"Cancer\"\n",
        "    elif (month == 7 and day >= 23) or (month == 8 and day <= 22):\n",
        "        return \"Leo\"\n",
        "    elif (month == 8 and day >= 23) or (month == 9 and day <= 22):\n",
        "        return \"Virgo\"\n",
        "    elif (month == 9 and day >= 23) or (month == 10 and day <= 22):\n",
        "        return \"Libra\"\n",
        "    elif (month == 10 and day >= 23) or (month == 11 and day <= 21):\n",
        "        return \"Scorpio\"\n",
        "    elif (month == 11 and day >= 22) or (month == 12 and day <= 21):\n",
        "        return \"Sagittarius\"\n",
        "    elif (month == 12 and day >= 22) or (month == 1 and day <= 19):\n",
        "        return \"Capricorn\"\n",
        "    elif (month == 1 and day >= 20) or (month == 2 and day <= 18):\n",
        "        return \"Aquarius\"\n",
        "    elif (month == 2 and day >= 19) or (month == 3 and day <= 20):\n",
        "        return \"Pisces\"\n",
        "    else:\n",
        "        return \"Invalid date\"\n",
        "\n",
        "def validate_and_extract_date(date_str):\n",
        "    date_str = date_str.replace('-', '').replace('.', '').replace('/', '')\n",
        "    if len(date_str) != 4 or not date_str.isdigit():\n",
        "        return None, None\n",
        "\n",
        "    day, month = int(date_str[:2]), int(date_str[2:])\n",
        "    if 1 <= day <= 31 and 1 <= month <= 12:\n",
        "        return day, month\n",
        "    else:\n",
        "        return None, None\n",
        "\n",
        "# Example usage\n",
        "name = input(\"Enter your name: \")\n",
        "birthday = input(\"Enter your birthday (DDMM or DD/MM or DD-MM or DD.MM): \")\n",
        "\n",
        "day, month = validate_and_extract_date(birthday)\n",
        "if day is None or month is None:\n",
        "    print(\"Invalid date format. Please enter a valid date.\")\n",
        "else:\n",
        "    sign = get_astrological_sign(day, month)\n",
        "    print(f\"{name}, your astrological sign is: {sign}\")\n"
      ],
      "metadata": {
        "colab": {
          "base_uri": "https://localhost:8080/"
        },
        "id": "TiYEv_gC943p",
        "outputId": "a1b1f701-691d-4663-ecea-d143810fe927"
      },
      "execution_count": 18,
      "outputs": [
        {
          "output_type": "stream",
          "name": "stdout",
          "text": [
            "Enter your name: ross\n",
            "Enter your birthday (DDMM or DD/MM or DD-MM or DD.MM): 1502\n",
            "ross, your astrological sign is: Aquarius\n"
          ]
        }
      ]
    }
  ]
}